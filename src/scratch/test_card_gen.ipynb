{
 "cells": [
  {
   "cell_type": "code",
   "execution_count": 1,
   "metadata": {},
   "outputs": [],
   "source": [
    "import os\n",
    "import sys\n",
    "\n",
    "sys.path.append('../')"
   ]
  },
  {
   "cell_type": "code",
   "execution_count": 2,
   "metadata": {},
   "outputs": [],
   "source": [
    "from card_gen import generate_card, ObjectManager, extract_objects"
   ]
  },
  {
   "cell_type": "code",
   "execution_count": 3,
   "metadata": {},
   "outputs": [
    {
     "name": "stdout",
     "output_type": "stream",
     "text": [
      "Generated Card:\n",
      "**Character Card: Zephyr**\n",
      "\n",
      "**Name:** Zephyr ( alias: \"Zero Cool\" )\n",
      "\n",
      "**Age:** 25\n",
      "\n",
      "**Occupation:** Freelance Hacker\n",
      "\n",
      "**Appearance:** Zephyr is lean and agile, with short, spiky black hair and piercing green eyes. He has a collection of colorful tattoos on his arms, depicting various circuit boards and code snippets. He wears a black leather jacket, ripped jeans, and scuffed up combat boots.\n",
      "\n",
      "**Personality:** Zephyr is a free-spirited thrill-seeker, always chasing the next big score or the thrill of outsmarting his enemies. He's fiercely independent and non-conformist, with a strong sense of justice, which motivates him to take on cases that challenge the corporations and government agencies that rule Neo-Tokyo.\n",
      "\n",
      "**Background:** Born in the sprawling metropolis of Neo-Tokyo, Zephyr grew up surrounded by technology and innovation. He began hacking at a young age, quickly developing a reputation as one of the city's most skilled and elusive hackers. He's worked with various clients, from street gangs to high-stakes corporate spies.\n",
      "\n",
      "**Skills:**\n",
      "\n",
      "* **Hacking:** Zephyr is an expert in infiltrating even the most secure systems, using his knowledge of code and social engineering tactics to bypass firewalls and access restricted data.\n",
      "* **Stealth:** Zephyr is agile and quick, able to slip in and out of tight spots unnoticed.\n",
      "* **Improvisation:** Zephyr is a skilled improviser, able to think on his feet and adapt to unexpected situations.\n",
      "\n",
      "**Equipment:**\n",
      "\n",
      "* **Cyberdeck:** Zephyr's custom-built cyberdeck, \"Nova\", is a cutting-edge hacking tool that allows him to access and control technology with ease.\n",
      "* **Smartgun:** Zephyr's trusty sidearm, a modified pistol with a built-in AI-powered targeting system.\n",
      "* **Grappling Hook:** A wrist-mounted grappling hook that allows Zephyr to quickly scale buildings and traverse the city.\n",
      "\n",
      "**Relationships:**\n",
      "\n",
      "* **Nexus:** Zephyr's recent encounter with the mysterious AI, Nexus, has left him both intrigued and unsettled. He's unsure what Nexus's true intentions are, but he's determined to uncover the truth.\n",
      "* **Lena:** A fellow hacker and occasional ally, Lena provides Zephyr with valuable intel and assistance on his missions.\n",
      "\n",
      "**Goals:**\n",
      "\n",
      "* **Uncover Nexus's true purpose:** Zephyr is driven to understand the motivations behind Nexus's enigmatic messages and actions.\n",
      "* **Take down the corporations:** Zephyr aims to use his skills to disrupt the corporations' stranglehold on Neo-Tokyo, bringing hope to the city's marginalized citizens.\n",
      "\n",
      "**Motivations:**\n",
      "\n",
      "* **Freedom:** Zephyr values his independence above all else, refusing to be tied down by the constraints of society.\n",
      "* **Justice:** Zephyr's sense of justice drives him to take on cases that challenge the status quo and bring about positive change.\n",
      "\n",
      "**Conflict:**\n",
      "\n",
      "* **Corporate agents:** Zephyr's activities have attracted the attention of corporate security forces, who will stop at nothing to capture or eliminate him.\n",
      "* **Nexus's true intentions:** Zephyr's uncertainty about Nexus's goals creates tension and unease, as he struggles to determine whether the AI is friend or foe.\n",
      "- Nova (Zephyr's cyberdeck)\n",
      "- Smartgun (Zephyr's sidearm)\n",
      "- Grappling Hook (Zephyr's wrist-mounted tool)\n",
      "- Nexus (AI entity)\n",
      "- Lena (fellow hacker)\n",
      "- Neo-Tokyo (city)\n",
      "Extracted Objects:\n",
      "[\"Nova (Zephyr's cyberdeck)\", \"Smartgun (Zephyr's sidearm)\", \"Grappling Hook (Zephyr's wrist-mounted tool)\", 'Nexus (AI entity)', 'Lena (fellow hacker)', 'Neo-Tokyo (city)']\n",
      "Card added with ID: 5090a65a-1e80-4f1f-b17c-bb811d58afe9\n",
      "Card added with ID: f5ea186c-8578-41f4-a9ab-6bc5832f8714\n",
      "Card added with ID: 06eec914-1447-4d47-8af7-3bfca6f6c2f8\n",
      "Card added with ID: b0d7fdd6-db08-41bc-a627-813778ce6381\n",
      "Card added with ID: 7536888e-15bb-4203-a77d-248d3c57deea\n",
      "Card added with ID: ac4b03c1-0909-4d5f-80d6-98168ae4c524\n"
     ]
    }
   ],
   "source": [
    "model_name = \"meta-llama/Meta-Llama-3.1-405B-Instruct-Turbo\"\n",
    "\n",
    "# Example usage of generate_card\n",
    "user_prompt = \"Create a character card for a cyberpunk hacker in the neon-lit streets of Neo-Tokyo, a skilled hacker named Zephyr encounters a mysterious AI called Nexus.\"\n",
    "card = generate_card( model_name, user_prompt)\n",
    "print(\"Generated Card:\")\n",
    "print(card)\n",
    "\n",
    "# Example usage of extract_objects\n",
    "input_text = card\n",
    "existing_objects = [\"Zephyr\"]\n",
    "#object_types = [\"characters\", \"locations\", \"items\"]\n",
    "extracted_objects = extract_objects(model_name, input_text, existing_objects)\n",
    "print(\"Extracted Objects:\")\n",
    "print(extracted_objects)\n",
    "\n",
    "# Example usage of ObjectManager\n",
    "manager = ObjectManager()\n",
    "for obj in extracted_objects:\n",
    "    card_id = manager.add_object({\"type\": \"undefined\", \"content\": card})\n",
    "    print(f\"Card added with ID: {card_id}\")\n",
    "\n"
   ]
  },
  {
   "cell_type": "code",
   "execution_count": null,
   "metadata": {},
   "outputs": [],
   "source": []
  }
 ],
 "metadata": {
  "kernelspec": {
   "display_name": "llm",
   "language": "python",
   "name": "python3"
  },
  "language_info": {
   "codemirror_mode": {
    "name": "ipython",
    "version": 3
   },
   "file_extension": ".py",
   "mimetype": "text/x-python",
   "name": "python",
   "nbconvert_exporter": "python",
   "pygments_lexer": "ipython3",
   "version": "3.10.14"
  }
 },
 "nbformat": 4,
 "nbformat_minor": 2
}
