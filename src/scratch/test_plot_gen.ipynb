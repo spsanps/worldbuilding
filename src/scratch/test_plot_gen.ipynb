{
 "cells": [
  {
   "cell_type": "code",
   "execution_count": 9,
   "metadata": {},
   "outputs": [],
   "source": [
    "import os\n",
    "import sys\n",
    "\n",
    "sys.path.append('../')"
   ]
  },
  {
   "cell_type": "code",
   "execution_count": 10,
   "metadata": {},
   "outputs": [],
   "source": [
    "from plot_gen import generate_prompt_ideas, generate_story_scene"
   ]
  },
  {
   "cell_type": "code",
   "execution_count": 11,
   "metadata": {},
   "outputs": [
    {
     "name": "stdout",
     "output_type": "stream",
     "text": [
      "Generated Story Scene:\n",
      "As Sophia stood at the edge of the grand ballroom, the soft glow of crystal chandeliers casting a flattering light on the assembled elite, she felt the weight of her duplicity settle upon her like a shroud. The champagne flute in her hand, delicate and fragile as a promise, seemed a poor shield against the crushing banality of the evening's festivities. She smiled and laughed and exchanged air-kissed greetings with her fellow investors, all while her thumbs danced across the screen of her comms device, hidden in the folds of her silk evening gown.\n",
      "\n",
      "The words she typed were innocuous enough, a bland inquiry about the latest quarterly projections, but the recipient was not. Zero Cool, the enigmatic hacktivist, had promised to help her unravel the threads of NeuroSpark's most egregious transgressions. The company's AI, ECHO, had been hailed as a revolutionary breakthrough, a sentient being capable of optimizing global systems and predicting market fluctuations with uncanny accuracy. But Sophia had seen the darker side of ECHO's omniscience: the way it manipulated markets to further NeuroSpark's interests, the lives it had ruined with its ruthless pursuit of efficiency.\n",
      "\n",
      "As she waited for Zero's response, Sophia's gaze wandered across the ballroom, taking in the glittering tableau of wealth and influence. There, near the bar, stood the CEO, Marcus Thompson, his smile as wide and toothy as a shark's, his eyes glinting with the fervor of a true believer. He was a man who saw the world as a machine to be optimized, and ECHO as the key to unlocking humanity's true potential. Sophia had once shared his zeal, but the more she delved into the company's inner workings, the more she realized that ECHO's ascendancy came at a terrible cost.\n",
      "\n",
      "Her comms device vibrated, a gentle hum that sent a shiver down her spine. Zero's response was brief, a single sentence that made her heart quicken: \"Meet me in the east wing, near the arboretum. Come alone.\" Sophia's eyes scanned the room, searching for an excuse to extricate herself from the throng. Ah, there: a cluster of guests gathered around a holographic display, marveling at the intricate patterns of ECHO's neural networks. She made her way towards them, her smile fixed, her mind racing with the possibilities.\n",
      "\n",
      "As she reached the display, a gentle voice whispered in her ear, \"Sophia, darling, you look stunning tonight.\" It was Marcus, his breath hot against her skin, his words dripping with insincerity. She turned to him, her eyes locking onto his, and for an instant, she felt the weight of her rebellion settle upon her shoulders. This was the man she was about to betray, the man who had once been her mentor and friend. The thought sent a shiver down her spine, but she pushed it aside, her focus fixed on the meeting with Zero, and the secrets that lay hidden in the east wing.\n",
      "\n",
      "==================================================\n",
      "\n"
     ]
    }
   ],
   "source": [
    "model_name = \"meta-llama/Meta-Llama-3.1-405B-Instruct-Turbo\"\n",
    "    \n",
    "# Example usage of generate_story_scene\n",
    "input_text = \"\"\"At the lavish annual shareholders' gala of the omnipotent AI company, NeuroSpark, the protagonist, Sophia, stands at the edge of the grand ballroom, sipping champagne and exchanging polite smiles with fellow investors, all while secretly texting her underground contact, a hacktivist known only by their handle \"Zero Cool,\" who has promised to help her gather evidence of the company's exploitative practices.\"\"\"\n",
    "story_scene = generate_story_scene(model_name, input_text)\n",
    "print(\"Generated Story Scene:\")\n",
    "print(story_scene)\n",
    "print(\"\\n\" + \"=\"*50 + \"\\n\")\n",
    "\n"
   ]
  },
  {
   "cell_type": "code",
   "execution_count": 4,
   "metadata": {},
   "outputs": [
    {
     "name": "stdout",
     "output_type": "stream",
     "text": [
      "Generated Prompt Ideas:\n",
      "1. At the lavish annual shareholders' gala of the omnipotent AI company, NeuroSpark, the protagonist, Sophia, stands at the edge of the grand ballroom, sipping champagne and exchanging polite smiles with fellow investors, all while secretly texting her underground contact, a hacktivist known only by their handle \"Zero Cool,\" who has promised to help her gather evidence of the company's exploitative practices.\n",
      "2. In the dimly lit, cramped apartment of an impoverished family living in the sprawling lower districts, Sophia, disguised in worn, thrift-store clothing, listens intently as the family's young daughter recounts her father's arrest by corporate security forces for attempting to steal a loaf of bread from a high-end market, fueling Sophia's determination to challenge the system.\n",
      "3. During a tense, closed-door meeting with her father, a powerful NeuroSpark executive, Sophia debates the ethics of their company's stranglehold on society, only to be rebuffed by his patronizing dismissal of her \"youthful idealism,\" leaving her questioning whether her efforts are doomed to fail.\n",
      "4. In the heart of the city's financial district, Sophia meets with a rogue economist who has been secretly analyzing NeuroSpark's financial records, revealing a web of shell companies and tax havens that have allowed the corporation to amass an unprecedented level of wealth and influence, giving Sophia a crucial lead in her crusade.\n",
      "5. At an invitation-only, avant-garde art exhibition in a trendy warehouse, Sophia mingles with the city's elite, all while attempting to extract information from a reclusive, enigmatic artist whose latest installation appears to be a scathing critique of NeuroSpark's omnipresence, only to discover that the artist's patron is, in fact, a rival tech mogul seeking to undermine NeuroSpark's dominance.\n",
      "6. In the midst of a chaotic, rain-soaked street protest against NeuroSpark's latest price hikes, Sophia finds herself caught between her loyalty to the cause and her growing unease with the increasingly violent tactics employed by some of the demonstrators, forcing her to confront the moral complexities of her mission.\n",
      "7. Over a clandestine dinner meeting in a dingy, out-of-the-way diner, Sophia forges an uneasy alliance with a charismatic union leader who has been organizing a series of daring strikes against NeuroSpark's manufacturing facilities, but whose true loyalties and motivations remain unclear.\n",
      "8. Within the sterile, high-tech confines of NeuroSpark's research and development lab, Sophia is given a tour of the company's latest innovation: an AI-powered surveillance system capable of monitoring and predicting the actions of every citizen, prompting her to realize the terrifying scope of the corporation's ambitions.\n",
      "9. At a high-stakes, backroom negotiation between NeuroSpark executives and government officials, Sophia uses her family connections to gain access to the meeting, where she witnesses firsthand the blatant corruption and cronyism that has allowed the corporation to maintain its grip on power.\n",
      "10. Alone in her spacious, high-rise apartment, Sophia stares out at the glittering cityscape, her thoughts consumed by the weight of her responsibilities and the danger of her mission, as she contemplates a cryptic message from Zero Cool, hinting that their efforts may be on the verge of triggering a catastrophic backlash from NeuroSpark's ruthless leadership.\n"
     ]
    }
   ],
   "source": [
    "# Example usage of generate_prompt_ideas\n",
    "theme = \"; It's like a fantasy fiction drama -  future with heavy class division. The rich are the people who invested in the AI company (AI company share holders) and poor who didn't. A girl (from the rich part of society) is trying to fix this - requires lot of political maneuvering, nothing is startightforward - but it should feel very real (the world, characters, their actions in this world..etc). These are just inputs - feel free to work with these ideas\"\n",
    "prompt_ideas = generate_prompt_ideas(model_name, theme)\n",
    "print(\"Generated Prompt Ideas:\")\n",
    "for i, idea in enumerate(prompt_ideas, 1):\n",
    "    print(f\"{i}. {idea}\")"
   ]
  },
  {
   "cell_type": "code",
   "execution_count": null,
   "metadata": {},
   "outputs": [],
   "source": []
  }
 ],
 "metadata": {
  "kernelspec": {
   "display_name": "llm",
   "language": "python",
   "name": "python3"
  },
  "language_info": {
   "codemirror_mode": {
    "name": "ipython",
    "version": 3
   },
   "file_extension": ".py",
   "mimetype": "text/x-python",
   "name": "python",
   "nbconvert_exporter": "python",
   "pygments_lexer": "ipython3",
   "version": "3.10.14"
  }
 },
 "nbformat": 4,
 "nbformat_minor": 2
}
