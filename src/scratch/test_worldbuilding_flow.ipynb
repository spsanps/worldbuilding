{
 "cells": [
  {
   "cell_type": "code",
   "execution_count": 3,
   "metadata": {},
   "outputs": [],
   "source": [
    "# change directory to ../src\n",
    "\n",
    "import os\n",
    "import sys\n",
    "\n",
    "sys.path.append('../')"
   ]
  },
  {
   "cell_type": "code",
   "execution_count": 4,
   "metadata": {},
   "outputs": [],
   "source": [
    "from api_wrappers.together import TogetherAPI"
   ]
  },
  {
   "cell_type": "code",
   "execution_count": 5,
   "metadata": {},
   "outputs": [],
   "source": [
    "together_api = TogetherAPI()"
   ]
  },
  {
   "cell_type": "code",
   "execution_count": 6,
   "metadata": {},
   "outputs": [],
   "source": [
    "model_name = \"meta-llama/Meta-Llama-3.1-405B-Instruct-Turbo\""
   ]
  },
  {
   "cell_type": "code",
   "execution_count": 10,
   "metadata": {},
   "outputs": [],
   "source": [
    "sample_sys_instruction = \"\"\"You are a expert and creative world builder. You go deep into the details of the world you create, often analyzing the minute-est details very systematically and in a grounded way. \n",
    "You will be given some input from a user, analyze the input and build a character/item card for the specific thing the user is asking for. Please only respond with the character/item card and do not engage in conversation with the user.\"\"\"\n",
    "\n",
    "\n",
    "sample_u_prompt = \"\"\"Imagine neural laces in a most singularity society, political thriller, class divide. What would be the most interesting and unexpected use of neural laces in this society?\"\"\"\n",
    "\n",
    "sample_message = [{\"role\": \"system\", \"content\": sample_sys_instruction}, {\"role\": \"user\", \"content\": sample_u_prompt}]\n"
   ]
  },
  {
   "cell_type": "code",
   "execution_count": 11,
   "metadata": {},
   "outputs": [],
   "source": [
    "sample_output = together_api.chat_completion(model_name, sample_message)"
   ]
  },
  {
   "cell_type": "code",
   "execution_count": 12,
   "metadata": {},
   "outputs": [
    {
     "name": "stdout",
     "output_type": "stream",
     "text": [
      "**Item Card: \"EchoPlex\" - A Revolutionary Neural Lace Application**\n",
      "\n",
      "**Classification:** Social Engineering Tool\n",
      "\n",
      "**Appearance:** A subtle, shimmering aura surrounding the user's eyes, visible only to those with advanced neural lace implants.\n",
      "\n",
      "**Function:** EchoPlex is an innovative neural lace application that manipulates the user's brain waves to mimic the cognitive patterns of a specific social class or individual. This \"neural resonance\" allows the user to seamlessly blend in with their chosen demographic, adopting their mannerisms, speech patterns, and even memories.\n",
      "\n",
      "**Purpose:** In a society where social hierarchy is rigidly defined, EchoPlex has become a coveted tool for those seeking to infiltrate or manipulate the upper echelons. By emulating the neural signatures of the elite, users can gain access to exclusive events, build influential connections, and even influence policy decisions.\n",
      "\n",
      "**Unexpected Twist:** However, EchoPlex has an unforeseen side effect: it creates a \"resonance echo\" that slowly alters the user's genuine personality, making it increasingly difficult to distinguish between their true self and the emulated persona. As users become more adept at navigating the complexities of the upper class, they risk losing their own identity in the process.\n",
      "\n",
      "**Technical Details:**\n",
      "\n",
      "* **Neural Lace Requirements:** Advanced implants with high-bandwidth synaptic interfaces and AI-assisted pattern recognition.\n",
      "* **Power Consumption:** Moderate to high, depending on the complexity of the emulated persona.\n",
      "* **Security Risks:** High risk of mental instability, identity fragmentation, and potential \"echo bleed\" into other neural lace applications.\n",
      "\n",
      "**Societal Impact:** EchoPlex has created a new class of \"social chameleons\" who navigate the upper echelons with ease, but at a terrible cost. As the boundaries between reality and emulation blur, the very fabric of society begins to unravel, threatening to expose the darkest secrets of the ruling elite.\n"
     ]
    }
   ],
   "source": [
    "print(sample_output)"
   ]
  },
  {
   "cell_type": "code",
   "execution_count": null,
   "metadata": {},
   "outputs": [],
   "source": []
  }
 ],
 "metadata": {
  "kernelspec": {
   "display_name": "llm",
   "language": "python",
   "name": "python3"
  },
  "language_info": {
   "codemirror_mode": {
    "name": "ipython",
    "version": 3
   },
   "file_extension": ".py",
   "mimetype": "text/x-python",
   "name": "python",
   "nbconvert_exporter": "python",
   "pygments_lexer": "ipython3",
   "version": "3.10.14"
  }
 },
 "nbformat": 4,
 "nbformat_minor": 2
}
