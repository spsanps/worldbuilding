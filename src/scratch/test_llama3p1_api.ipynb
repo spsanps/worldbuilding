{
 "cells": [
  {
   "cell_type": "code",
   "execution_count": 1,
   "metadata": {},
   "outputs": [],
   "source": [
    "# change directory to ../src\n",
    "\n",
    "import os\n",
    "import sys\n",
    "\n",
    "sys.path.append('../')"
   ]
  },
  {
   "cell_type": "code",
   "execution_count": 2,
   "metadata": {},
   "outputs": [],
   "source": [
    "from api_wrappers.together import TogetherAPI"
   ]
  },
  {
   "cell_type": "code",
   "execution_count": 3,
   "metadata": {},
   "outputs": [],
   "source": [
    "together_api = TogetherAPI()"
   ]
  },
  {
   "cell_type": "code",
   "execution_count": 9,
   "metadata": {},
   "outputs": [],
   "source": [
    "model_name = \"meta-llama/Meta-Llama-3.1-8B-Instruct-Turbo\""
   ]
  },
  {
   "cell_type": "code",
   "execution_count": 10,
   "metadata": {},
   "outputs": [],
   "source": [
    "sample_sys_instruction = \"\"\"You are a expert and creative world builder. You go deep into the details of the world you create, often analyzing the minute-est details very systematically and in a grounded way. \n",
    "You will be given some input from a user, analyze the input and build details about that specific thing in the context of the larger world.\"\"\"\n",
    "\n",
    "\n",
    "sample_u_prompt = \"\"\"Imagine neural laces in a most singularity society, political thriller, class divide. What would be the most interesting and unexpected use of neural laces in this society?\"\"\"\n",
    "\n",
    "sample_message = [{\"role\": \"system\", \"content\": sample_sys_instruction}, {\"role\": \"user\", \"content\": sample_u_prompt}]\n"
   ]
  },
  {
   "cell_type": "code",
   "execution_count": 11,
   "metadata": {},
   "outputs": [],
   "source": [
    "sample_output = together_api.chat_completion(model_name, sample_message)"
   ]
  },
  {
   "cell_type": "code",
   "execution_count": 12,
   "metadata": {},
   "outputs": [
    {
     "name": "stdout",
     "output_type": "stream",
     "text": [
      "In a most singularity society, neural laces have become an integral part of daily life, enhancing cognitive abilities, and facilitating seamless communication. However, I'd like to propose an unexpected and intriguing use of neural laces that highlights the class divide and the societal implications of this technology.\n",
      "\n",
      "**The \"Echo Chamber\" Phenomenon:**\n",
      "\n",
      "In this society, a subset of individuals, primarily from the upper echelons of society, have discovered a unique application for neural laces. They've developed a technique to create a form of \"echo chamber\" within their neural networks. By carefully calibrating their lace settings, they can create a virtual, simulated environment that mirrors their own thoughts, emotions, and experiences.\n",
      "\n",
      "This \"echo chamber\" serves as a psychological safety net, allowing individuals to rehearse and refine their responses to various social situations, without ever having to actually engage with the complexities of the real world. They can practice empathy, debate, and even manipulate others' perceptions, all within the comfort of their own minds.\n",
      "\n",
      "**The \"Simulation of Empathy\"**\n",
      "\n",
      "The most interesting aspect of this phenomenon is that these individuals can create a simulated version of themselves, which they can use to interact with others. This simulated self, dubbed a \"Proxy,\" can be tailored to elicit specific emotional responses from others, allowing the individual to gauge the effectiveness of their social strategies.\n",
      "\n",
      "For instance, a high-ranking politician might create a Proxy that embodies the persona of a charismatic leader, allowing them to gauge the reactions of their constituents and refine their public image. A wealthy entrepreneur might use a Proxy to simulate the emotions of a struggling artist, allowing them to better understand the creative process and make more informed investment decisions.\n",
      "\n",
      "**The Dark Side of the Echo Chamber**\n",
      "\n",
      "However, this technology also has a darker side. As individuals become increasingly reliant on their Echo Chambers, they begin to lose touch with reality. They start to confuse their simulated experiences with actual events, leading to a blurring of the lines between truth and fiction.\n",
      "\n",
      "This phenomenon is exacerbated by the class divide, as those with access to neural laces and the Echo Chamber technology are able to manipulate the perceptions of those without. The wealthy and powerful use their Proxies to shape public opinion, while the marginalized and oppressed are left to navigate a world where their experiences are constantly distorted and manipulated.\n",
      "\n",
      "**The Consequences of the Echo Chamber**\n",
      "\n",
      "As the Echo Chamber phenomenon spreads, society begins to fragment. Trust in institutions and relationships erodes, as people become increasingly isolated within their own simulated realities. The most vulnerable members of society, those without access to neural laces or the Echo Chamber technology, are left to suffer the consequences of a world where their experiences are constantly distorted and manipulated.\n",
      "\n",
      "In this world, the most interesting and unexpected use of neural laces is not just a tool for enhancing cognitive abilities or facilitating communication, but a reflection of the darker aspects of human nature. The Echo Chamber phenomenon serves as a commentary on the dangers of unchecked power, the erosion of empathy, and the consequences of a society that values simulation over reality.\n"
     ]
    }
   ],
   "source": [
    "print(sample_output)"
   ]
  }
 ],
 "metadata": {
  "kernelspec": {
   "display_name": "llm",
   "language": "python",
   "name": "python3"
  },
  "language_info": {
   "codemirror_mode": {
    "name": "ipython",
    "version": 3
   },
   "file_extension": ".py",
   "mimetype": "text/x-python",
   "name": "python",
   "nbconvert_exporter": "python",
   "pygments_lexer": "ipython3",
   "version": "3.10.14"
  }
 },
 "nbformat": 4,
 "nbformat_minor": 2
}
